{
 "cells": [
  {
   "cell_type": "markdown",
   "id": "b4b792a0",
   "metadata": {},
   "source": [
    "## Environmental Disaster Impacts\n",
    "Source: United Nations Global SDG Indicators Database\n",
    "\n",
    "Link: https://unstats.un.org/sdgs/indicators/database/ (Goal 1)"
   ]
  },
  {
   "cell_type": "code",
   "execution_count": 5,
   "id": "f8165324",
   "metadata": {},
   "outputs": [],
   "source": [
    "import pandas as pd\n",
    "import numpy as np\n",
    "\n",
    "from bokeh.io import output_file, output_notebook, curdoc\n",
    "from bokeh.plotting import figure, show\n",
    "from bokeh.models import ColumnDataSource\n",
    "from bokeh.layouts import row, column, gridplot\n",
    "from bokeh.models.widgets import Tabs, Panel\n",
    "from bokeh.models import HoverTool\n",
    "\n",
    "#import matplotlib.pyplot as plt\n",
    "#%matplotlib inline"
   ]
  },
  {
   "cell_type": "code",
   "execution_count": 2,
   "id": "9cb9f26e",
   "metadata": {},
   "outputs": [],
   "source": [
    "# Prepare the data\n",
    "\n",
    "goal_one_df = pd.read_csv('Goal1.csv',encoding='latin-1')\n",
    "#print(goal_one_df.head)\n",
    "\n",
    "req_df = goal_one_df.loc[:, ['GeoAreaName', 'SeriesCode', 'SeriesDescription', 'TimePeriod', 'Value']]\n"
   ]
  },
  {
   "cell_type": "code",
   "execution_count": 6,
   "id": "733ac6b4",
   "metadata": {},
   "outputs": [
    {
     "data": {
      "text/html": [
       "\n",
       "\n",
       "\n",
       "\n",
       "\n",
       "\n",
       "  <div class=\"bk-root\" id=\"6b6d6dbf-df76-4b0b-8ad9-074142905d0a\" data-root-id=\"1501\"></div>\n"
      ]
     },
     "metadata": {},
     "output_type": "display_data"
    },
    {
     "data": {
      "application/javascript": [
       "(function(root) {\n",
       "  function embed_document(root) {\n",
       "    \n",
       "  var docs_json = {\"49568cc6-7e05-474e-bfa6-20f204622cf1\":{\"defs\":[],\"roots\":{\"references\":[{\"attributes\":{\"below\":[{\"id\":\"1512\"}],\"center\":[{\"id\":\"1515\"},{\"id\":\"1519\"}],\"height\":300,\"left\":[{\"id\":\"1516\"}],\"renderers\":[{\"id\":\"1538\"},{\"id\":\"1544\"}],\"title\":{\"id\":\"1502\"},\"toolbar\":{\"id\":\"1527\"},\"x_range\":{\"id\":\"1504\"},\"x_scale\":{\"id\":\"1508\"},\"y_range\":{\"id\":\"1506\"},\"y_scale\":{\"id\":\"1510\"}},\"id\":\"1501\",\"subtype\":\"Figure\",\"type\":\"Plot\"},{\"attributes\":{\"fill_color\":{\"value\":\"deepskyblue\"},\"line_color\":{\"value\":\"deepskyblue\"},\"marker\":{\"value\":\"square\"},\"x\":{\"field\":\"TimePeriod\"},\"y\":{\"field\":\"Value\"}},\"id\":\"1537\",\"type\":\"Scatter\"},{\"attributes\":{\"text\":\"Disaster-Caused Deaths\"},\"id\":\"1502\",\"type\":\"Title\"},{\"attributes\":{\"source\":{\"id\":\"1500\"}},\"id\":\"1545\",\"type\":\"CDSView\"},{\"attributes\":{\"data_source\":{\"id\":\"1500\"},\"glyph\":{\"id\":\"1541\"},\"hover_glyph\":null,\"muted_glyph\":null,\"nonselection_glyph\":{\"id\":\"1542\"},\"selection_glyph\":{\"id\":\"1543\"},\"view\":{\"id\":\"1545\"}},\"id\":\"1544\",\"type\":\"GlyphRenderer\"},{\"attributes\":{\"source\":{\"id\":\"1499\"}},\"id\":\"1539\",\"type\":\"CDSView\"},{\"attributes\":{\"bottom_units\":\"screen\",\"fill_alpha\":0.5,\"fill_color\":\"lightgrey\",\"left_units\":\"screen\",\"level\":\"overlay\",\"line_alpha\":1.0,\"line_color\":\"black\",\"line_dash\":[4,4],\"line_width\":2,\"right_units\":\"screen\",\"syncable\":false,\"top_units\":\"screen\"},\"id\":\"1526\",\"type\":\"BoxAnnotation\"},{\"attributes\":{},\"id\":\"1524\",\"type\":\"ResetTool\"},{\"attributes\":{\"fill_color\":{\"value\":\"pink\"},\"line_color\":{\"value\":\"pink\"},\"marker\":{\"value\":\"square\"},\"x\":{\"field\":\"TimePeriod\"},\"y\":{\"field\":\"Value\"}},\"id\":\"1543\",\"type\":\"Scatter\"},{\"attributes\":{\"fill_color\":{\"value\":\"red\"},\"line_color\":{\"value\":\"red\"},\"marker\":{\"value\":\"square\"},\"x\":{\"field\":\"TimePeriod\"},\"y\":{\"field\":\"Value\"}},\"id\":\"1541\",\"type\":\"Scatter\"},{\"attributes\":{},\"id\":\"1508\",\"type\":\"LinearScale\"},{\"attributes\":{},\"id\":\"1517\",\"type\":\"BasicTicker\"},{\"attributes\":{\"axis\":{\"id\":\"1516\"},\"dimension\":1,\"ticker\":null},\"id\":\"1519\",\"type\":\"Grid\"},{\"attributes\":{},\"id\":\"1513\",\"type\":\"BasicTicker\"},{\"attributes\":{},\"id\":\"1581\",\"type\":\"Selection\"},{\"attributes\":{\"fill_alpha\":{\"value\":0.3},\"fill_color\":{\"value\":\"lightgray\"},\"line_alpha\":{\"value\":0.3},\"line_color\":{\"value\":\"lightgray\"},\"marker\":{\"value\":\"square\"},\"x\":{\"field\":\"TimePeriod\"},\"y\":{\"field\":\"Value\"}},\"id\":\"1536\",\"type\":\"Scatter\"},{\"attributes\":{},\"id\":\"1582\",\"type\":\"UnionRenderers\"},{\"attributes\":{},\"id\":\"1573\",\"type\":\"AllLabels\"},{\"attributes\":{\"axis\":{\"id\":\"1512\"},\"ticker\":null},\"id\":\"1515\",\"type\":\"Grid\"},{\"attributes\":{},\"id\":\"1574\",\"type\":\"BasicTickFormatter\"},{\"attributes\":{},\"id\":\"1504\",\"type\":\"DataRange1d\"},{\"attributes\":{\"data_source\":{\"id\":\"1499\"},\"glyph\":{\"id\":\"1535\"},\"hover_glyph\":null,\"muted_glyph\":null,\"nonselection_glyph\":{\"id\":\"1536\"},\"selection_glyph\":{\"id\":\"1537\"},\"view\":{\"id\":\"1539\"}},\"id\":\"1538\",\"type\":\"GlyphRenderer\"},{\"attributes\":{\"fill_color\":{\"value\":\"blue\"},\"line_color\":{\"value\":\"blue\"},\"marker\":{\"value\":\"square\"},\"x\":{\"field\":\"TimePeriod\"},\"y\":{\"field\":\"Value\"}},\"id\":\"1535\",\"type\":\"Scatter\"},{\"attributes\":{},\"id\":\"1520\",\"type\":\"PanTool\"},{\"attributes\":{\"data\":{\"GeoAreaName\":[\"Egypt\",\"Egypt\",\"Egypt\",\"Egypt\",\"Egypt\",\"Egypt\",\"Egypt\",\"Egypt\",\"Egypt\",\"Egypt\",\"Egypt\",\"Egypt\",\"Egypt\",\"Egypt\",\"Egypt\",\"Egypt\"],\"SeriesCode\":[\"VC_DSR_MORT\",\"VC_DSR_MORT\",\"VC_DSR_MORT\",\"VC_DSR_MORT\",\"VC_DSR_MORT\",\"VC_DSR_MORT\",\"VC_DSR_MORT\",\"VC_DSR_MORT\",\"VC_DSR_MORT\",\"VC_DSR_MORT\",\"VC_DSR_MORT\",\"VC_DSR_MORT\",\"VC_DSR_MORT\",\"VC_DSR_MORT\",\"VC_DSR_MORT\",\"VC_DSR_MORT\"],\"SeriesDescription\":[\"Number of deaths due to disaster (number)\",\"Number of deaths due to disaster (number)\",\"Number of deaths due to disaster (number)\",\"Number of deaths due to disaster (number)\",\"Number of deaths due to disaster (number)\",\"Number of deaths due to disaster (number)\",\"Number of deaths due to disaster (number)\",\"Number of deaths due to disaster (number)\",\"Number of deaths due to disaster (number)\",\"Number of deaths due to disaster (number)\",\"Number of deaths due to disaster (number)\",\"Number of deaths due to disaster (number)\",\"Number of deaths due to disaster (number)\",\"Number of deaths due to disaster (number)\",\"Number of deaths due to disaster (number)\",\"Number of deaths due to disaster (number)\"],\"TimePeriod\":[2005,2006,2007,2008,2009,2010,2011,2012,2013,2014,2015,2016,2017,2018,2019,2020],\"Value\":{\"__ndarray__\":\"AAAAAABJuUAAAAAAAJO4QAAAAAAARrpAAAAAAABXukAAAAAAAI6+QAAAAAAAJLxAAAAAAACIvEAAAAAAAFu5QAAAAAAAx7pAAAAAAABluUAAAAAAAFG5QAAAAAAAjKFAAAAAAADGr0AAAAAAALSoQAAAAAAA7JpAAAAAAABtw0A=\",\"dtype\":\"float64\",\"order\":\"little\",\"shape\":[16]},\"index\":[4359,4360,4361,4362,4363,4364,4365,4366,4367,4368,4369,4370,4371,4372,4373,4374]},\"selected\":{\"id\":\"1581\"},\"selection_policy\":{\"id\":\"1582\"}},\"id\":\"1500\",\"type\":\"ColumnDataSource\"},{\"attributes\":{},\"id\":\"1521\",\"type\":\"WheelZoomTool\"},{\"attributes\":{},\"id\":\"1576\",\"type\":\"AllLabels\"},{\"attributes\":{\"axis_label\":\"Year\",\"formatter\":{\"id\":\"1577\"},\"major_label_policy\":{\"id\":\"1576\"},\"ticker\":{\"id\":\"1513\"}},\"id\":\"1512\",\"type\":\"LinearAxis\"},{\"attributes\":{},\"id\":\"1577\",\"type\":\"BasicTickFormatter\"},{\"attributes\":{},\"id\":\"1523\",\"type\":\"SaveTool\"},{\"attributes\":{\"active_multi\":null,\"tools\":[{\"id\":\"1520\"},{\"id\":\"1521\"},{\"id\":\"1522\"},{\"id\":\"1523\"},{\"id\":\"1524\"},{\"id\":\"1525\"},{\"id\":\"1546\"}]},\"id\":\"1527\",\"type\":\"Toolbar\"},{\"attributes\":{},\"id\":\"1506\",\"type\":\"DataRange1d\"},{\"attributes\":{\"overlay\":{\"id\":\"1526\"}},\"id\":\"1522\",\"type\":\"BoxZoomTool\"},{\"attributes\":{\"data\":{\"GeoAreaName\":[\"France\",\"France\",\"France\"],\"SeriesCode\":[\"VC_DSR_MORT\",\"VC_DSR_MORT\",\"VC_DSR_MORT\"],\"SeriesDescription\":[\"Number of deaths due to disaster (number)\",\"Number of deaths due to disaster (number)\",\"Number of deaths due to disaster (number)\"],\"TimePeriod\":[2016,2017,2018],\"Value\":{\"__ndarray__\":\"AAAAAADAh0AAAAAAADCBQAAAAAAAoJhA\",\"dtype\":\"float64\",\"order\":\"little\",\"shape\":[3]},\"index\":[5374,5375,5376]},\"selected\":{\"id\":\"1579\"},\"selection_policy\":{\"id\":\"1580\"}},\"id\":\"1499\",\"type\":\"ColumnDataSource\"},{\"attributes\":{\"axis_label\":\"Deaths\",\"formatter\":{\"id\":\"1574\"},\"major_label_policy\":{\"id\":\"1573\"},\"ticker\":{\"id\":\"1517\"}},\"id\":\"1516\",\"type\":\"LinearAxis\"},{\"attributes\":{},\"id\":\"1510\",\"type\":\"LinearScale\"},{\"attributes\":{},\"id\":\"1579\",\"type\":\"Selection\"},{\"attributes\":{},\"id\":\"1525\",\"type\":\"HelpTool\"},{\"attributes\":{},\"id\":\"1580\",\"type\":\"UnionRenderers\"},{\"attributes\":{\"fill_alpha\":{\"value\":0.3},\"fill_color\":{\"value\":\"lightgray\"},\"line_alpha\":{\"value\":0.3},\"line_color\":{\"value\":\"lightgray\"},\"marker\":{\"value\":\"square\"},\"x\":{\"field\":\"TimePeriod\"},\"y\":{\"field\":\"Value\"}},\"id\":\"1542\",\"type\":\"Scatter\"},{\"attributes\":{\"callback\":null,\"tooltips\":[[\"Country\",\"@GeoAreaName\"],[\"Deaths\",\"@Value\"]]},\"id\":\"1546\",\"type\":\"HoverTool\"}],\"root_ids\":[\"1501\"]},\"title\":\"Bokeh Application\",\"version\":\"2.3.3\"}};\n",
       "  var render_items = [{\"docid\":\"49568cc6-7e05-474e-bfa6-20f204622cf1\",\"root_ids\":[\"1501\"],\"roots\":{\"1501\":\"6b6d6dbf-df76-4b0b-8ad9-074142905d0a\"}}];\n",
       "  root.Bokeh.embed.embed_items_notebook(docs_json, render_items);\n",
       "\n",
       "  }\n",
       "  if (root.Bokeh !== undefined) {\n",
       "    embed_document(root);\n",
       "  } else {\n",
       "    var attempts = 0;\n",
       "    var timer = setInterval(function(root) {\n",
       "      if (root.Bokeh !== undefined) {\n",
       "        clearInterval(timer);\n",
       "        embed_document(root);\n",
       "      } else {\n",
       "        attempts++;\n",
       "        if (attempts > 100) {\n",
       "          clearInterval(timer);\n",
       "          console.log(\"Bokeh: ERROR: Unable to run BokehJS code because BokehJS library is missing\");\n",
       "        }\n",
       "      }\n",
       "    }, 10, root)\n",
       "  }\n",
       "})(window);"
      ],
      "application/vnd.bokehjs_exec.v0+json": ""
     },
     "metadata": {
      "application/vnd.bokehjs_exec.v0+json": {
       "id": "1501"
      }
     },
     "output_type": "display_data"
    }
   ],
   "source": [
    "# Determine where the visualization will be rendered\n",
    "output_file('EnvDisasterImp.html', title='Environmental Disaster Impacts by Country')  # Render to static HTML, or \n",
    "#output_notebook()  # Render inline in a Jupyter Notebook\n",
    "\n",
    "#isolating data\n",
    "france_data = req_df.loc[(req_df['GeoAreaName'] == 'France') & (req_df['SeriesCode'] == 'VC_DSR_MORT')]\n",
    "egypt_data = req_df.loc[(req_df['GeoAreaName'] == 'Egypt') & (req_df['SeriesCode'] == 'VC_DSR_MORT')]\n",
    "\n",
    "#print(france_data)\n",
    "#print(egypt_data)\n",
    "\n",
    "#create columbdatasource object\n",
    "france_cds = ColumnDataSource(france_data)\n",
    "egypt_cds = ColumnDataSource(egypt_data)\n",
    "\n",
    "# Set up the figure(s)\n",
    "fig = figure(plot_height=300, plot_width=600,\n",
    "             title='Disaster-Caused Deaths',\n",
    "             x_axis_label='Year', y_axis_label='Deaths',\n",
    "             )  # Instantiate a figure() object\n",
    "\n",
    "# Connect to and draw the data\n",
    "\n",
    "fig.square(x='TimePeriod',\n",
    "           y='Value',\n",
    "           source=france_cds,\n",
    "           color='blue',\n",
    "           selection_color='deepskyblue',\n",
    "           nonselection_color='lightgray',\n",
    "           nonselection_alpha=0.3)\n",
    "\n",
    "fig.square(x='TimePeriod',\n",
    "           y='Value',\n",
    "           source=egypt_cds,\n",
    "           color='red',\n",
    "           selection_color='pink',\n",
    "           nonselection_color='lightgray',\n",
    "           nonselection_alpha=0.3)\n",
    "\n",
    "\n",
    "#fig.step('TimePeriod', 'Value', \n",
    "         #color='#CE1141', legend_label='France', \n",
    "         #source=france_cds)\n",
    "\n",
    "#fig.step('TimePeriod', 'Value', \n",
    "         #color='#006BB6', legend_label='Egypt', \n",
    "         #source=egypt_cds)\n",
    "\n",
    "tooltips = [\n",
    "            ('Country','@GeoAreaName'),\n",
    "            ('Deaths', '@Value'),\n",
    "           ]\n",
    "\n",
    "# Organize the layout\n",
    "#fig.legend.location = 'top_left'\n",
    "fig.add_tools(HoverTool(tooltips=tooltips))\n",
    "\n",
    "# Preview and save \n",
    "#show(fig)  # See what I made, and save if I like it\n",
    "curdoc().add_root(fig)"
   ]
  }
 ],
 "metadata": {
  "kernelspec": {
   "display_name": "Python 3",
   "language": "python",
   "name": "python3"
  },
  "language_info": {
   "codemirror_mode": {
    "name": "ipython",
    "version": 3
   },
   "file_extension": ".py",
   "mimetype": "text/x-python",
   "name": "python",
   "nbconvert_exporter": "python",
   "pygments_lexer": "ipython3",
   "version": "3.9.6"
  }
 },
 "nbformat": 4,
 "nbformat_minor": 5
}
